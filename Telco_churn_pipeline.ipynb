{
 "cells": [
  {
   "cell_type": "markdown",
   "metadata": {},
   "source": [
    "# Telco Churn Pipeline"
   ]
  },
  {
   "cell_type": "code",
   "execution_count": 1,
   "metadata": {
    "colab": {},
    "colab_type": "code",
    "id": "lk5YY1rCPNBF"
   },
   "outputs": [],
   "source": [
    "import kfp\n",
    "## Import Required Libraries\n",
    "import pandas as pd\n",
    "import matplotlib.pyplot as plt\n",
    "import numpy as np\n",
    "import sklearn\n",
    "import typing"
   ]
  },
  {
   "cell_type": "markdown",
   "metadata": {},
   "source": [
    "## Read Data"
   ]
  },
  {
   "cell_type": "code",
   "execution_count": 9,
   "metadata": {},
   "outputs": [],
   "source": [
    "from typing import NamedTuple\n",
    "\n",
    "def add_multiply_two_numbers(a: float, b: float) -> NamedTuple('Outputs', [('sum', float), ('product', float)]):\n",
    "    \"\"\"Returns sum and product of two arguments\"\"\"\n",
    "    return (a + b, a * b)\n",
    "\n",
    "add_multiply_op = create_component_from_func(add_multiply_two_numbers)\n",
    "\n",
    "# The component function can be called with arguments to create a task:\n",
    "add_multiply_task = add_multiply_op(1, 3)"
   ]
  },
  {
   "cell_type": "code",
   "execution_count": 11,
   "metadata": {},
   "outputs": [
    {
     "name": "stdout",
     "output_type": "stream",
     "text": [
      "TaskSpec(component_ref=ComponentReference(name=None, digest=None, tag=None, url=None, spec=ComponentSpec(name='Add multiply two numbers', description='Returns sum and product of two arguments', metadata=None, inputs=[InputSpec(name='a', type='Float', description=None, default=None, optional=False), InputSpec(name='b', type='Float', description=None, default=None, optional=False)], outputs=[OutputSpec(name='sum', type='Float', description=None), OutputSpec(name='product', type='Float', description=None)], implementation=ContainerImplementation(container=ContainerSpec(image='tensorflow/tensorflow:1.13.2-py3', command=['python3', '-u', '-c', 'def add_multiply_two_numbers(a , b )      :\\n    \"\"\"Returns sum and product of two arguments\"\"\"\\n    return (a + b, a * b)\\n\\ndef _serialize_float(float_value: float) -> str:\\n    if isinstance(float_value, str):\\n        return float_value\\n    if not isinstance(float_value, (float, int)):\\n        raise TypeError(\\'Value \"{}\" has type \"{}\" instead of float.\\'.format(str(float_value), str(type(float_value))))\\n    return str(float_value)\\n\\nimport argparse\\n_parser = argparse.ArgumentParser(prog=\\'Add multiply two numbers\\', description=\\'Returns sum and product of two arguments\\')\\n_parser.add_argument(\"--a\", dest=\"a\", type=float, required=True, default=argparse.SUPPRESS)\\n_parser.add_argument(\"--b\", dest=\"b\", type=float, required=True, default=argparse.SUPPRESS)\\n_parser.add_argument(\"----output-paths\", dest=\"_output_paths\", type=str, nargs=2)\\n_parsed_args = vars(_parser.parse_args())\\n_output_files = _parsed_args.pop(\"_output_paths\", [])\\n\\n_outputs = add_multiply_two_numbers(**_parsed_args)\\n\\nif not hasattr(_outputs, \\'__getitem__\\') or isinstance(_outputs, str):\\n    _outputs = [_outputs]\\n\\n_output_serializers = [\\n    _serialize_float,\\n    _serialize_float,\\n\\n]\\n\\nimport os\\nfor idx, output_file in enumerate(_output_files):\\n    try:\\n        os.makedirs(os.path.dirname(output_file))\\n    except OSError:\\n        pass\\n    with open(output_file, \\'w\\') as f:\\n        f.write(_output_serializers[idx](_outputs[idx]))\\n'], args=['--a', InputValuePlaceholder(input_name='a'), '--b', InputValuePlaceholder(input_name='b'), '----output-paths', OutputPathPlaceholder(output_name='sum'), OutputPathPlaceholder(output_name='product')], env=None, file_outputs=None)), version='google.com/cloud/pipelines/component/v1')), arguments={'a': '1', 'b': '3'}, is_enabled=None, execution_options=None)\n"
     ]
    }
   ],
   "source": [
    "print(add_multiply_op(1, 3))"
   ]
  },
  {
   "cell_type": "code",
   "execution_count": 15,
   "metadata": {
    "colab": {},
    "colab_type": "code",
    "id": "PqRpwuzlPQcL"
   },
   "outputs": [],
   "source": [
    "from typing import NamedTuple\n",
    "from kfp.components import *\n",
    "\n",
    "def read_data_func(file_name: InputPath('CSV')-> OutputPath('CSV'):\n",
    "                   #-> NamedTuple('Outputs',\n",
    "                    #                                                                       [('Cols_drop', int),\n",
    "                    #                                                                        ('Cols_retained', int)]):\n",
    "\n",
    "\n",
    "    ## Import Required Libraries\n",
    "    import pandas as pd\n",
    "    import matplotlib.pyplot as plt\n",
    "    import numpy as np\n",
    "    import sklearn\n",
    "    \n",
    "    #This line may cause problems as file is on the system and not inside container\n",
    "\n",
    "    df = pd.read_csv(file_name)\n",
    "    col1 = len(df.columns)\n",
    "    df=df.drop(columns=['merchant_number','visa_interchange_level','avg_cb_case_type_others','avg_cb_status_others',\n",
    "     'cross_border_trans',\n",
    "     'domestic_trans',\n",
    "     'clean_trans',\n",
    "     'error_trans',\n",
    "     'purchase_trans',\n",
    "     'refund_trans',\n",
    "     'other_trans',\n",
    "     'avg_amt_per_tran',\n",
    "     'avg_amt_per_day',\n",
    "     'avg_amt_per_month',\n",
    "     'avg_trans_per_day',\n",
    "     'avg_trans_per_month',\n",
    "     'avg_chargeback_amount',\n",
    "     'avg_cb_received_days',\n",
    "     'avg_cb_resolve_days'])\n",
    "    \n",
    "    col2 = len(df.columns)\n",
    "    df.to_csv(out_file_name)\n",
    "    \n",
    "    return (col1-col2, col2)\n"
   ]
  },
  {
   "cell_type": "code",
   "execution_count": 16,
   "metadata": {
    "colab": {},
    "colab_type": "code",
    "id": "Kc-R6MVJPT4I"
   },
   "outputs": [],
   "source": [
    "kfp_read_data = kfp.components.create_component_from_func(func = read_data_func, \n",
    "                                                          output_component_file = './read-data-func.yaml',\n",
    "                                                          base_image = 'fastgenomics/sklearn',\n",
    "                                                          packages_to_install = ['pandas','matplotlib','numpy','sklearn'])\n",
    "\n",
    "read_data_task = kfp_read_data('Merchant_Attrition_Data.csv','Cleaned_data.csv')"
   ]
  },
  {
   "cell_type": "markdown",
   "metadata": {},
   "source": [
    "## One-Hot-Encode"
   ]
  },
  {
   "cell_type": "code",
   "execution_count": 0,
   "metadata": {
    "colab": {},
    "colab_type": "code",
    "id": "DMffJF7gPULK"
   },
   "outputs": [],
   "source": [
    "from typing import NamedTuple\n",
    "\n",
    "def one_hot_encode(file_name: InputPath('CSV'), out_file1_name: OutputPath('CSV'), \n",
    "                   out_file2_name: OutputPath('CSV')) -> None:\n",
    "    ## Import Required Libraries\n",
    "    import pandas as pd\n",
    "    import matplotlib.pyplot as plt\n",
    "    import numpy as np\n",
    "    import sklearn\n",
    "    \n",
    "    X = pd.read_csv(file_name)  \n",
    "    y = X['churn_flag']\n",
    "    X = X.drop(['churn_flag'],axis=1)\n",
    "    X_dummies = pd.get_dummies(X,drop_first=True)\n",
    "    X1 = X_dummies.apply(pd.to_numeric, errors='coerce')\n",
    "    y1 = y.apply(pd.to_numeric, errors='coerce')\n",
    "    \n",
    "    #saving files may need a PV allocation to container\n",
    "    \n",
    "    X1.to_csv(out_file1_name, mode='w+')\n",
    "    y1.to_csv(out_file2_name, mode='w+')\n"
   ]
  },
  {
   "cell_type": "code",
   "execution_count": 0,
   "metadata": {
    "colab": {},
    "colab_type": "code",
    "id": "c3828YdCPUQq"
   },
   "outputs": [],
   "source": [
    "kfp_one_hot_encode = kfp.components.create_component_from_func(func = one_hot_encode, \n",
    "                                                          output_component_file = './one-hot-encode-func.yaml',\n",
    "                                                          base_image = 'fastgenomics/sklearn',\n",
    "                                                          packages_to_install = ['pandas','matplotlib','numpy','sklearn'])\n",
    "one_hot_encode_task = kfp_one_hot_encode('Cleaned_data.csv','One_Hot_encoded_data.csv','Churn_flags.csv')"
   ]
  },
  {
   "cell_type": "markdown",
   "metadata": {},
   "source": [
    "## Random Forest Model"
   ]
  },
  {
   "cell_type": "code",
   "execution_count": 0,
   "metadata": {
    "colab": {},
    "colab_type": "code",
    "id": "uKFHrgP1PUVx"
   },
   "outputs": [],
   "source": [
    "from typing import NamedTuple\n",
    "def rf_model(ip_file1: InputPath('CSV'), ip_file2: InputPath('CSV'), modelopfile: OutputPath('joblib'))-> None:\n",
    "    from sklearn.ensemble import RandomForestClassifier\n",
    "    import joblib\n",
    "    X1 = pd.read_csv(ip_file1)\n",
    "    y1 = pd.read_csv(ip_file2)\n",
    "    \n",
    "    rf = RandomForestClassifier()\n",
    "    rf.fit(X1, y1)\n",
    "    joblib.dump(rf, modelopfile)\n"
   ]
  },
  {
   "cell_type": "code",
   "execution_count": 0,
   "metadata": {
    "colab": {},
    "colab_type": "code",
    "id": "BUWTgpMcPUT3"
   },
   "outputs": [],
   "source": [
    "kfp_rf_model = kfp.components.create_component_from_func(func = rf_model_train, \n",
    "                                                          output_component_file = './rf-model-func.yaml',\n",
    "                                                          base_image = 'fastgenomics/sklearn',\n",
    "                                                          packages_to_install = ['pandas','matplotlib','numpy','sklearn','joblib'])\n",
    "\n",
    "rf_model_task = kfp_rf_model('One_Hot_encoded_data.csv','Churn_flags.csv','model.joblib')"
   ]
  },
  {
   "cell_type": "code",
   "execution_count": 0,
   "metadata": {
    "colab": {},
    "colab_type": "code",
    "id": "zLGtTW5CPUOP"
   },
   "outputs": [],
   "source": []
  }
 ],
 "metadata": {
  "colab": {
   "name": "Copy of Untitled6.ipynb",
   "provenance": []
  },
  "kernelspec": {
   "display_name": "Python 3",
   "language": "python",
   "name": "python3"
  },
  "language_info": {
   "codemirror_mode": {
    "name": "ipython",
    "version": 3
   },
   "file_extension": ".py",
   "mimetype": "text/x-python",
   "name": "python",
   "nbconvert_exporter": "python",
   "pygments_lexer": "ipython3",
   "version": "3.7.4"
  }
 },
 "nbformat": 4,
 "nbformat_minor": 1
}
