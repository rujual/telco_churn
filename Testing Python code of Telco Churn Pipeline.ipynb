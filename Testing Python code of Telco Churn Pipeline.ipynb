{
 "cells": [
  {
   "cell_type": "code",
   "execution_count": 1,
   "metadata": {},
   "outputs": [],
   "source": [
    "import pandas as pd\n",
    "import numpy as np\n",
    "\n",
    "#This line may cause problems as file is on the system and not inside container\n",
    "#Importing directly from Github Raw Content\n",
    "\n",
    "file_name = \"https://raw.githubusercontent.com/rujual/telco_churn/master/Data.csv\"\n",
    "df_churn = pd.read_csv(file_name)\n",
    "col1 = len(df_churn.columns)\n",
    "\n",
    "empty_cols=['customerID', 'gender', 'SeniorCitizen', 'Partner', 'Dependents',\n",
    "       'tenure', 'PhoneService', 'MultipleLines', 'InternetService',\n",
    "       'OnlineSecurity', 'OnlineBackup', 'DeviceProtection','TechSupport',\n",
    "       'StreamingTV', 'StreamingMovies', 'Contract', 'PaperlessBilling',\n",
    "       'PaymentMethod', 'MonthlyCharges', 'TotalCharges', 'Churn']\n",
    "\n",
    "for i in empty_cols:\n",
    "    df_churn[i]=df_churn[i].replace(\" \",np.nan)\n",
    "\n",
    "df_churn.drop(['customerID','cluster number'], axis=1, inplace=True)\n",
    "df_churn = df_churn.dropna()\n"
   ]
  },
  {
   "cell_type": "code",
   "execution_count": 2,
   "metadata": {},
   "outputs": [],
   "source": [
    "## Import Required Libraries\n",
    "import pandas as pd\n",
    "import numpy as np\n",
    "\n",
    "#df_churn = input_df #pd.read_csv(file_name)  \n",
    "\n",
    "binary_cols = ['Partner','Dependents','PhoneService','PaperlessBilling']\n",
    "\n",
    "for i in binary_cols:\n",
    "    df_churn[i] = df_churn[i].replace({\"Yes\":1,\"No\":0})\n",
    "\n",
    "#Encoding column 'gender'\n",
    "df_churn['gender'] = df_churn['gender'].replace({\"Male\":1,\"Female\":0})\n",
    "\n",
    "\n",
    "category_cols = ['PaymentMethod','MultipleLines','InternetService','OnlineSecurity',\n",
    "               'OnlineBackup','DeviceProtection',\n",
    "               'TechSupport','StreamingTV','StreamingMovies','Contract']\n",
    "\n",
    "for cc in category_cols:\n",
    "    dummies = pd.get_dummies(df_churn[cc], drop_first=False)\n",
    "    dummies = dummies.add_prefix(\"{}#\".format(cc))\n",
    "    df_churn.drop(cc, axis=1, inplace=True)\n",
    "    df_churn = df_churn.join(dummies)\n",
    "\n",
    "df_churn['Churn'] = df_churn['Churn'].replace({\"Yes\":1,\"No\":0})\n"
   ]
  },
  {
   "cell_type": "code",
   "execution_count": 3,
   "metadata": {},
   "outputs": [
    {
     "data": {
      "text/plain": [
       "array([[1053,  258],\n",
       "       [ 149, 1162]])"
      ]
     },
     "execution_count": 3,
     "metadata": {},
     "output_type": "execute_result"
    }
   ],
   "source": [
    "from sklearn.ensemble import RandomForestClassifier\n",
    "from imblearn.over_sampling import SMOTE\n",
    "from sklearn.model_selection import GridSearchCV\n",
    "from sklearn.model_selection import train_test_split\n",
    "from sklearn.metrics import confusion_matrix\n",
    "\n",
    "#df_churn = input_df\n",
    "n_est = 100\n",
    "\n",
    "y1 = df_churn['Churn']\n",
    "X1 = df_churn.drop(['Churn'],axis=1)\n",
    "\n",
    "X_train, X_test, y_train, y_test = train_test_split(X1, y1, random_state=0)\n",
    "\n",
    "sm = SMOTE(random_state=0)\n",
    "X_train_res, y_train_res = sm.fit_sample(X_train, y_train)\n",
    "\n",
    "param_grid = {\n",
    "    'n_estimators': [50, 100, 200],\n",
    "    'max_features': ['auto', 'sqrt', 'log2'],\n",
    "    'max_depth' : [2,4,5,6,7,8],\n",
    "    'criterion' :['gini', 'entropy']\n",
    "}\n",
    "\n",
    "\n",
    "rfc=RandomForestClassifier(random_state=42,n_estimators=n_est)\n",
    "gsv_rfc = GridSearchCV(estimator=rfc, param_grid=param_grid, cv= 5)\n",
    "rfc.fit(X_train_res, y_train_res)\n",
    "\n",
    "rfc_best=RandomForestClassifier(random_state=42, max_features='auto', n_estimators= 50, max_depth=8,\n",
    "                                criterion='gini')\n",
    "\n",
    "rfc_best.fit(X_train_res, y_train_res)\n",
    "X_test_res, y_test_res = sm.fit_sample(X_test, y_test)\n",
    "y_test_pred = rfc_best.predict(X_test_res)\n",
    "rf_score = rfc_best.score(X_test_res, y_test_res)\n",
    "conf = confusion_matrix(y_test_res, y_test_pred)\n",
    "conf"
   ]
  },
  {
   "cell_type": "code",
   "execution_count": 4,
   "metadata": {},
   "outputs": [
    {
     "data": {
      "text/plain": [
       "0.8447749809305873"
      ]
     },
     "execution_count": 4,
     "metadata": {},
     "output_type": "execute_result"
    }
   ],
   "source": [
    "rf_score"
   ]
  }
 ],
 "metadata": {
  "kernelspec": {
   "display_name": "Python 3",
   "language": "python",
   "name": "python3"
  },
  "language_info": {
   "codemirror_mode": {
    "name": "ipython",
    "version": 3
   },
   "file_extension": ".py",
   "mimetype": "text/x-python",
   "name": "python",
   "nbconvert_exporter": "python",
   "pygments_lexer": "ipython3",
   "version": "3.7.4"
  }
 },
 "nbformat": 4,
 "nbformat_minor": 2
}
